{
 "cells": [
  {
   "cell_type": "markdown",
   "metadata": {},
   "source": [
    "## Authentification to Google Earth Engine"
   ]
  },
  {
   "cell_type": "code",
   "execution_count": 13,
   "metadata": {},
   "outputs": [],
   "source": [
    "import os\n",
    "import json\n",
    "\n",
    "import geopandas as gpd\n",
    "import datetime"
   ]
  },
  {
   "cell_type": "code",
   "execution_count": 2,
   "metadata": {},
   "outputs": [
    {
     "data": {
      "text/html": [
       "<p>To authorize access needed by Earth Engine, open the following\n",
       "        URL in a web browser and follow the instructions:</p>\n",
       "        <p><a href=https://accounts.google.com/o/oauth2/auth?client_id=517222506229-vsmmajv00ul0bs7p89v5m89qs8eb9359.apps.googleusercontent.com&scope=https%3A%2F%2Fwww.googleapis.com%2Fauth%2Fearthengine+https%3A%2F%2Fwww.googleapis.com%2Fauth%2Fdevstorage.full_control&redirect_uri=urn%3Aietf%3Awg%3Aoauth%3A2.0%3Aoob&response_type=code&code_challenge=Iu8SpDCxRxd3R1E_vyKaBuCpRtx-Kgs-hEeNzgYQlIc&code_challenge_method=S256>https://accounts.google.com/o/oauth2/auth?client_id=517222506229-vsmmajv00ul0bs7p89v5m89qs8eb9359.apps.googleusercontent.com&scope=https%3A%2F%2Fwww.googleapis.com%2Fauth%2Fearthengine+https%3A%2F%2Fwww.googleapis.com%2Fauth%2Fdevstorage.full_control&redirect_uri=urn%3Aietf%3Awg%3Aoauth%3A2.0%3Aoob&response_type=code&code_challenge=Iu8SpDCxRxd3R1E_vyKaBuCpRtx-Kgs-hEeNzgYQlIc&code_challenge_method=S256</a></p>\n",
       "        <p>The authorization workflow will generate a code, which you\n",
       "        should paste in the box below</p>\n",
       "        "
      ],
      "text/plain": [
       "<IPython.core.display.HTML object>"
      ]
     },
     "metadata": {},
     "output_type": "display_data"
    },
    {
     "name": "stdout",
     "output_type": "stream",
     "text": [
      "Enter verification code: 4/1AY0e-g5aM6YhEAsT-P7Asnq8dGzpWbnySCCQh46zWdmRfYbebrvOGoEPfhg\n",
      "\n",
      "Successfully saved authorization token.\n"
     ]
    }
   ],
   "source": [
    "import ee\n",
    "# Trigger the authentication flow.\n",
    "ee.Authenticate()\n",
    "\n",
    "# Initialize the library.\n",
    "ee.Initialize()"
   ]
  },
  {
   "cell_type": "markdown",
   "metadata": {},
   "source": [
    "## Area of interest (AOI) to GEE"
   ]
  },
  {
   "cell_type": "code",
   "execution_count": 3,
   "metadata": {},
   "outputs": [],
   "source": [
    "aoi_path = 'data/aoi.shp'"
   ]
  },
  {
   "cell_type": "code",
   "execution_count": 20,
   "metadata": {},
   "outputs": [],
   "source": [
    "# AOI to EE\n",
    "\n",
    "gpd_aoi = gpd.read_file(aoi_path)\n",
    "gjson = gpd_aoi.to_crs(epsg='4326').to_json()\n",
    "\n",
    "\n",
    "def geojson_to_ee(geo_json: str, geodesic=True) -> ee.Geometry:\n",
    "    \"\"\"Converts a geojson to ee.Geometry()\n",
    "    Args:\n",
    "        geo_json: geojson definition as str.\n",
    "    Returns:\n",
    "        ee_object: An ee.Geometry object\n",
    "    \"\"\"\n",
    "\n",
    "    geo_json = json.loads(geo_json)\n",
    "    features = ee.FeatureCollection(geo_json['features'])\n",
    "    return features\n",
    "\n",
    "aoi = geojson_to_ee(gjson)"
   ]
  },
  {
   "cell_type": "markdown",
   "metadata": {},
   "source": [
    "## Pre-process and Download CHIRPS datasets from GEE"
   ]
  },
  {
   "cell_type": "code",
   "execution_count": 14,
   "metadata": {},
   "outputs": [],
   "source": [
    "gee_collection_id = \"UCSB-CHG/CHIRPS/DAILY\"\n",
    "band = \"precipitation\"\n",
    "\n",
    "start_date = datetime.date(2018, 4, 1)\n",
    "end_date = datetime.date(2019, 12, 31)\n"
   ]
  },
  {
   "cell_type": "code",
   "execution_count": 21,
   "metadata": {},
   "outputs": [],
   "source": [
    "precip = ee.ImageCollection(gee_collection_id).select(band)\n",
    "\n",
    "precip = (ee.ImageCollection(gee_collection_id)\n",
    "          .select(band)\n",
    "          .filter(ee.Filter.date(start_date.isoformat(), end_date.isoformat()))  \n",
    "         )\n",
    "\n",
    "# Convert from daily precipitation values bin (rainy/not-rainy). \n",
    "precip_event = precip.map(lambda img: img.gt(0).copyProperties(img, img.propertyNames()))\n",
    "\n",
    "# get sum of rainy days per month (one raster per month per year)\n",
    "months = ee.List.sequence(1, 12)\n",
    "years = ee.List.sequence(start_date.year, end_date.year)\n",
    "\n",
    "by_month_year = ee.ImageCollection.fromImages(\n",
    "  years.map(lambda y: months.map(lambda m:\n",
    "        (precip_event\n",
    "        .filter(ee.Filter.calendarRange(y, y, 'year'))\n",
    "        .filter(ee.Filter.calendarRange(m, m, 'month'))\n",
    "        .sum()                              \n",
    "  )\n",
    ").flatten()))\n",
    "    \n",
    "    \n",
    "# Get the monthly average over all years \n",
    "by_month = ee.ImageCollection.fromImages(\n",
    "  months.map(lambda m:\n",
    "        (by_month_year\n",
    "        .filterMetadata('month', 'equals', m)\n",
    "        .mean()\n",
    "        .clip(aoi)\n",
    "  )))"
   ]
  },
  {
   "cell_type": "code",
   "execution_count": 23,
   "metadata": {},
   "outputs": [],
   "source": [
    "## Export\n",
    "\n",
    "def coord_list(geom):\n",
    "    coords = list(geom.exterior.coords)\n",
    "    return (coords)\n",
    "\n",
    "images = by_month.toBands() # put images to band. Whell we could do a toList and create file per month but it seems to me that one file with 12 bands is a good option.\n",
    "\n",
    "task = ee.batch.Export.image(images, 'RainyDays_CHIRPS',\n",
    "  {\n",
    "  'scale': 5000,\n",
    "  'maxPixels': 1.0E13,\n",
    "  'region': coord_list(gpd_aoi.geometry[0]),\n",
    "  'fileFormat': 'GeoTIFF',\n",
    "  'formatOptions': {\n",
    "    'cloudOptimized': True\n",
    "  },\n",
    "      'folder': 'GEE_Downloads'\n",
    "})\n",
    "\n",
    "task.start()"
   ]
  }
 ],
 "metadata": {
  "kernelspec": {
   "display_name": "eeenv2",
   "language": "python",
   "name": "eeenv2"
  },
  "language_info": {
   "codemirror_mode": {
    "name": "ipython",
    "version": 3
   },
   "file_extension": ".py",
   "mimetype": "text/x-python",
   "name": "python",
   "nbconvert_exporter": "python",
   "pygments_lexer": "ipython3",
   "version": "3.9.2"
  },
  "toc": {
   "base_numbering": 1,
   "nav_menu": {},
   "number_sections": true,
   "sideBar": true,
   "skip_h1_title": false,
   "title_cell": "Table of Contents",
   "title_sidebar": "Contents",
   "toc_cell": false,
   "toc_position": {},
   "toc_section_display": true,
   "toc_window_display": false
  }
 },
 "nbformat": 4,
 "nbformat_minor": 4
}
